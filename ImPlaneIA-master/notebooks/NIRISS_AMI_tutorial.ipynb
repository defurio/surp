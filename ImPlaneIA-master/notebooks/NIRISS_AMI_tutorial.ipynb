{
 "cells": [
  {
   "cell_type": "markdown",
   "metadata": {},
   "source": [
    "# A short Tutorial to process sample NIRISS AMI simulations\n",
    "\n",
    "* fit fringes for a simulated target and calibrator sequence (no WFE evolution between them)\n",
    "* calibrate target closure phases with the calibrator\n",
    "* fit for a binary"
   ]
  },
  {
   "cell_type": "code",
   "execution_count": null,
   "metadata": {},
   "outputs": [],
   "source": [
    "import glob\n",
    "import os, sys, time\n",
    "from astropy.io import fits\n",
    "import numpy as np\n",
    "\n",
    "from nrm_analysis import nrm_core, InstrumentData\n",
    "\n",
    "\n",
    "import matplotlib.pyplot as plt\n",
    "%matplotlib inline"
   ]
  },
  {
   "cell_type": "markdown",
   "metadata": {},
   "source": [
    "### Where the data lives:"
   ]
  },
  {
   "cell_type": "code",
   "execution_count": null,
   "metadata": {},
   "outputs": [],
   "source": [
    "datadir = \"../example_data/example_niriss/\"\n",
    "test_tar = datadir + \"t_binary_s198.3_p143.9_cr0.01__nispsf_jit7.0_F480M_15x_ov__00_lgpp_short.fits\"\n",
    "test_cal = datadir + \"c_binary_s198.3_p143.9_cr0.01__nispsf_jit7.0_F480M_15x_ov__00_lgpp_short.fits\"\n"
   ]
  },
  {
   "cell_type": "code",
   "execution_count": null,
   "metadata": {},
   "outputs": [],
   "source": [
    "data=fits.getdata(datadir + \"t_binary_s198.3_p143.9_cr0.01__nispsf_jit7.0_F480M_15x_ov__00_lgpp_short.fits\")\n",
    "print(data.shape)"
   ]
  },
  {
   "cell_type": "markdown",
   "metadata": {},
   "source": [
    "### First we specify the instrument & filter (F480M in this case):\n",
    "\n",
    "(defaults: Spectral type set to A0V)"
   ]
  },
  {
   "cell_type": "code",
   "execution_count": null,
   "metadata": {},
   "outputs": [],
   "source": [
    "niriss = InstrumentData.NIRISS(\"F480M\")"
   ]
  },
  {
   "cell_type": "code",
   "execution_count": null,
   "metadata": {},
   "outputs": [],
   "source": [
    "#print(niriss.nwav)\n"
   ]
  },
  {
   "cell_type": "markdown",
   "metadata": {},
   "source": [
    "### Next: get fringe observables via image plane fringe-fitting\n",
    "* Need to pass the InstrumentData object, some keywords.\n",
    "* Files will be saved into specified directory + new directory named by filename\n"
   ]
  },
  {
   "cell_type": "code",
   "execution_count": null,
   "metadata": {},
   "outputs": [],
   "source": [
    "ff_t = nrm_core.FringeFitter(niriss, datadir=datadir, savedir=\"targ/\", oversample=3, interactive=False) \n",
    "ff_c = nrm_core.FringeFitter(niriss, datadir=datadir, savedir=\"cal/\", oversample=3, interactive=False) \n",
    "#in general set interactive to False unless you really don't know what you are doing\n",
    "# originally oversample=7  reduce for debug speed\n",
    "                                                        "
   ]
  },
  {
   "cell_type": "code",
   "execution_count": null,
   "metadata": {},
   "outputs": [],
   "source": [
    "# This can take a little while -- there is a parallelization option, set threads=n_threads\n",
    "# output of this is long -- may also want to do this scripted instead of in notebook,\n",
    "# leaving off the output in this example.\n",
    "\n",
    "ff_t.fit_fringes(test_tar)\n",
    "ff_c.fit_fringes(test_cal)"
   ]
  },
  {
   "cell_type": "markdown",
   "metadata": {},
   "source": [
    "You'll find some new files. Text files save the observables you are trying to measure, but there are also some diagnostic fits files written: centered_X are the cropped/centered data, modelsolution_XX are the best fit model to the data, and residual_XX is the difference between the two. \n",
    "\n",
    "Coming soon: propogating errors from fringe-fitting to observables."
   ]
  },
  {
   "cell_type": "code",
   "execution_count": null,
   "metadata": {},
   "outputs": [],
   "source": [
    "data =   fits.getdata(\"targ/t_binary_s198.3_p143.9_cr0.01__nispsf_jit7.0_F480M_15x_ov__00_lgpp_short/centered_0.fits\")\n",
    "fmodel = fits.getdata(\"targ/t_binary_s198.3_p143.9_cr0.01__nispsf_jit7.0_F480M_15x_ov__00_lgpp_short/modelsolution_01.fits\")\n",
    "res =    fits.getdata(\"targ/t_binary_s198.3_p143.9_cr0.01__nispsf_jit7.0_F480M_15x_ov__00_lgpp_short/residual_01.fits\")\n",
    "\n",
    "plt.figure(figsize=(12,4))\n",
    "plt.subplot(131)\n",
    "plt.title(\"Input data\")\n",
    "im = plt.imshow(pow(data/data.max(), 0.5))\n",
    "plt.axis(\"off\")\n",
    "plt.colorbar(fraction=0.046, pad=0.04)\n",
    "plt.subplot(132)\n",
    "plt.title(\"best model\")\n",
    "im = plt.imshow(pow(fmodel/data.max(), 0.5))\n",
    "plt.axis(\"off\")\n",
    "plt.colorbar(fraction=0.046, pad=0.04)\n",
    "plt.subplot(133)\n",
    "plt.title(\"residual\")\n",
    "im = plt.imshow(res/data.max())\n",
    "plt.axis(\"off\")\n",
    "plt.colorbar(fraction=0.046, pad=0.04)\n"
   ]
  },
  {
   "cell_type": "markdown",
   "metadata": {},
   "source": [
    "If you don't want to clog up your hardrive with fits files you can initialize FringeFitter with keyword \"save_txt_only=True\" -- but you may want to save out everything the first time you reduce the data to check it. Above we can see a pretty good fit the magnification of the model is a bit off. This shows up as a radial patter in the residual. Finely fitting the exact magnification and rotation should be done before fringe fitting. "
   ]
  },
  {
   "cell_type": "markdown",
   "metadata": {},
   "source": [
    "### Calibration is simple: point to the data\n",
    "\n",
    "The most important thing is to pass the right InstrumentData object with correct parameters so wavelength, pixelscale, etc. can be interpreted into on-sky spatial frequency. This can write out an oifits file."
   ]
  },
  {
   "cell_type": "code",
   "execution_count": null,
   "metadata": {},
   "outputs": [],
   "source": [
    "niriss = InstrumentData.NIRISS(\"F480M\") # temp fix to reset nwav appropriately to 1\n",
    "tdir = \"targ/t_binary_s198.3_p143.9_cr0.01__nispsf_jit7.0_F480M_15x_ov__00_lgpp_short/\"\n",
    "cdir = \"cal/c_binary_s198.3_p143.9_cr0.01__nispsf_jit7.0_F480M_15x_ov__00_lgpp_short/\"\n",
    "calib = nrm_core.Calibrate([tdir, cdir], niriss, savedir = \"calibrated_example/\", interactive=False)"
   ]
  },
  {
   "cell_type": "code",
   "execution_count": null,
   "metadata": {},
   "outputs": [],
   "source": [
    "calib.save_to_oifits(\"exampleoifitsfiles.oifits\") # will save into specified \"savedir\"\n",
    "# Saved to oifits files are average fringe phasses, closure phases, visibility amplitudes,  \n",
    "# closure amplitudes & errors over the sequence of observations, wavelength and baseline info"
   ]
  },
  {
   "cell_type": "markdown",
   "metadata": {
    "collapsed": true
   },
   "source": [
    "### Now what to do with an oifits file? Example: fit a binary"
   ]
  },
  {
   "cell_type": "code",
   "execution_count": null,
   "metadata": {},
   "outputs": [],
   "source": [
    "# BinaryAnalyze module in nrm_core is a convenient way to load in your oifits file\n",
    "ba = nrm_core.BinaryAnalyze(\"calibrated_example/exampleoifitsfiles.oifits\", savedir=\"calibrated_example/\")"
   ]
  },
  {
   "cell_type": "code",
   "execution_count": null,
   "metadata": {},
   "outputs": [],
   "source": [
    "# Want to see what your closure phases look like?\n",
    "plt.plot(ba.cp, '.')\n",
    "# Bispectrum amplitudes:\n",
    "plt.plot(ba.t3amp, '.')"
   ]
  },
  {
   "cell_type": "code",
   "execution_count": null,
   "metadata": {},
   "outputs": [],
   "source": [
    "# Can do a coarse fit for binary parameters. \n",
    "# The binary in this case has a contrast of 0.01 at about 200mas, \n",
    "# so it should be pretty easy to recover.\n",
    "coarse_params = ba.chi2map(nstep=45, maxsep=400, clims=[1e-4, 0.9])"
   ]
  },
  {
   "cell_type": "code",
   "execution_count": null,
   "metadata": {},
   "outputs": [],
   "source": [
    "plt.figure()\n",
    "plt.plot(45/2.0 -0.5,45/2.0 - 0.5, marker=\"*\", color='w', markersize=20)\n",
    "plt.imshow(np.sqrt(ba.significance), cmap=\"cubehelix\", interpolation=\"nearest\")\n",
    "plt.xlabel(\"RA (mas)\")\n",
    "plt.ylabel(\"DEC (mas)\")\n",
    "plt.xticks(np.linspace(0, 45, 5), np.linspace(ba.ras.min(), ba.ras.max(), 4+1))\n",
    "plt.yticks(np.linspace(0, 45, 5), np.linspace(ba.decs.min(), ba.decs.max(), 4+1))\n",
    "plt.gca().invert_yaxis()\n",
    "plt.colorbar()"
   ]
  },
  {
   "cell_type": "markdown",
   "metadata": {},
   "source": [
    "## We can now do a finer fit with this coarse search as a starting point\n",
    "\n",
    "For a finer fit you can use the run_emcee method, or if you want more control you can define your own likelihood function"
   ]
  },
  {
   "cell_type": "code",
   "execution_count": null,
   "metadata": {},
   "outputs": [],
   "source": [
    "con, sep, pa = np.array(coarse_params)\n",
    "if pa > 180.0:\n",
    "    pa = 360-pa\n",
    "guess = {\"con\":con, \"sep\":sep, \"pa\":pa}\n",
    "priors = [(1e-5, 0.99), (20.0, 400.0), (-180.0,180.0)]\n",
    "ba.run_emcee(guess, nwalkers=100, niter=1000, priors=priors, \\\n",
    "                     threads=4, burnin = 100, \\\n",
    "                     # scale is to account for rendundancy in closure phase baselines\n",
    "                     scale = np.sqrt(7/3.0))\n",
    "# set so it will show in the notebook in addition to being written out\n",
    "ba.plot=\"on\"\n",
    "ba.corner_plot(\"test_mcmc.pdf\")"
   ]
  },
  {
   "cell_type": "code",
   "execution_count": null,
   "metadata": {},
   "outputs": [],
   "source": [
    "from nrm_analysis.modeling.binarymodel import model_cp_uv, model_t3amp_uv\n",
    "\n",
    "def logl(data, err, model):\n",
    "    \"\"\"\n",
    "    Likelihood given data, errors, and the model values\n",
    "    These are all shape (nobservable, nwav)\n",
    "    \"\"\"\n",
    "    #err*=np.sqrt(10.0/3.0)\n",
    "    chi2 = np.sum(((data-model)/err)**2)\n",
    "    loglike = -chi2/2.0\n",
    "    return loglike\n",
    "\n",
    "def cp_binary_model(params, binset, priors):\n",
    "    \"\"\"\n",
    "    len(params) must be len(nrank) +2 (for sep, pa)\n",
    "    \"\"\"\n",
    "    for i in range(len(params)):\n",
    "        if (params[i] < priors[i][0] or params[i] > priors[i][1]):  \n",
    "            return -np.inf\n",
    "\n",
    "    contrasts = params[2:]\n",
    "    seps = params[0]\n",
    "    pas = params[1]\n",
    "\n",
    "    model_cp = model_cp_uv(binset.uvcoords, contrasts, seps, pas, 1.0/binset.wavls)\n",
    "    ll = logl(binset.cp, binset.cperr , model_cp)\n",
    "    return ll\n",
    "\n",
    "def all_binary_model(params, binset, priors):\n",
    "    \n",
    "    for i in range(len(params)):\n",
    "        if (params[i] < priors[i][0] or params[i] > priors[i][1]):  \n",
    "            return -np.inf\n",
    "\n",
    "    contrasts = params[2:]\n",
    "    seps = params[0]\n",
    "    pas = params[1]\n",
    "\n",
    "    model_cp = model_cp_uv(binset.uvcoords, contrasts, seps, pas, 1.0/binset.wavls)\n",
    "    model_t3 = model_t3amp_uv(binset.uvcoords, contrasts, seps, pas, 1.0/binset.wavls)\n",
    "    model_all = np.concatenate((model_cp, model_t3))\n",
    "    obs_all = np.concatenate((binset.cp, binset.t3amp))\n",
    "    obserr_all = np.concatenate((binset.cperr, binset.t3amperr))\n",
    "    ll = logl(obs_all, obserr_all , model_all)\n",
    "    return ll\n"
   ]
  },
  {
   "cell_type": "code",
   "execution_count": null,
   "metadata": {},
   "outputs": [],
   "source": [
    "import emcee\n",
    "con, sep, pa = np.array(coarse_params)\n",
    "if pa>180.0:\n",
    "    pa = 360 - pa\n",
    "params = np.array([sep, pa, con])\n",
    "nwalkers = 100\n",
    "niter = 1000\n",
    "p0 = [params + 0.1*params*np.random.rand(len(params)) for i in range(nwalkers)]\n",
    "priors = [ (0.0, 300.0), (-180.0, 180.0), (1e-4, .99)]\n",
    "sampler = emcee.EnsembleSampler(nwalkers, len(params), cp_binary_model,\n",
    "                                threads=1, args=[ba, priors])\n",
    "t0 = time.time()\n",
    "pos, prob, state = sampler.run_mcmc(p0, 100)\n",
    "sampler.reset()\n",
    "t1 = time.time()\n",
    "print(\"burn in complete, took \", t1-t0, \"s\")\n",
    "pos, prob, state = sampler.run_mcmc(pos, niter)\n",
    "t2 = time.time()\n",
    "print(\"Mean acceptance fraction: {0:.3f}\".format(np.mean(sampler.acceptance_fraction)))\n",
    "print(\"This number should be between ~ 0.25 and 0.5 if everything went as planned.\")\n",
    "print(\"ran mcmc, took\", t2 - t1, \"s\")\n",
    "chain = sampler.flatchain\n",
    "fullchain = sampler.chain\n"
   ]
  },
  {
   "cell_type": "code",
   "execution_count": null,
   "metadata": {},
   "outputs": [],
   "source": [
    "import corner\n",
    "\n",
    "samples = sampler.chain[:, 50:, :].reshape((-1, len(params)))\n",
    "pq = list(map(lambda v: (v[1], v[2]-v[1], v[1]-v[0]),\n",
    "         zip(*np.percentile(samples, [1, 50, 99],axis=0))))\n",
    "print(\"================\")\n",
    "print(\"Recovered:\")\n",
    "print(\"---------\")\n",
    "print(pq[2][0],\"+/-\",pq[2][1],pq[2][2])\n",
    "print(pq[0][0],\"+/-\",pq[0][1],pq[0][2])\n",
    "print(pq[1][0],\"+/-\",pq[1][1],pq[1][2])\n",
    "print(\"================\")\n",
    "\n",
    "fig = corner.corner(chain, bins = 50)"
   ]
  },
  {
   "cell_type": "code",
   "execution_count": null,
   "metadata": {},
   "outputs": [],
   "source": []
  }
 ],
 "metadata": {
  "anaconda-cloud": {},
  "kernelspec": {
   "display_name": "Python 3",
   "language": "python",
   "name": "python3"
  },
  "language_info": {
   "codemirror_mode": {
    "name": "ipython",
    "version": 3
   },
   "file_extension": ".py",
   "mimetype": "text/x-python",
   "name": "python",
   "nbconvert_exporter": "python",
   "pygments_lexer": "ipython3",
   "version": "3.5.6"
  }
 },
 "nbformat": 4,
 "nbformat_minor": 1
}
